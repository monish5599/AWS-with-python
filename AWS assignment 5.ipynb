{
 "cells": [
  {
   "cell_type": "code",
   "execution_count": 1,
   "id": "083c6207",
   "metadata": {},
   "outputs": [
    {
     "name": "stdout",
     "output_type": "stream",
     "text": [
      "Concatenated string: Hello World\n"
     ]
    }
   ],
   "source": [
    "str1 = \"Hello\"\n",
    "str2 = \"World\"\n",
    "concatenated_string = str1 + \" \" + str2\n",
    "print(\"Concatenated string:\", concatenated_string)"
   ]
  },
  {
   "cell_type": "code",
   "execution_count": 2,
   "id": "61197659",
   "metadata": {},
   "outputs": [
    {
     "name": "stdout",
     "output_type": "stream",
     "text": [
      "Formatted string (using % operator): Name: Monish, Age: 24\n"
     ]
    }
   ],
   "source": [
    "# Using the % operator\n",
    "name = \"Monish\"\n",
    "age = 24\n",
    "formatted_string = \"Name: %s, Age: %d\" % (name, age)\n",
    "print(\"Formatted string (using % operator):\", formatted_string)"
   ]
  },
  {
   "cell_type": "code",
   "execution_count": 3,
   "id": "c4868227",
   "metadata": {},
   "outputs": [
    {
     "name": "stdout",
     "output_type": "stream",
     "text": [
      "Formatted string (using format() method): Name: Monish, Age: 24\n",
      "Formatted string (using f-strings): Name: Monish, Age: 24\n",
      "Formatted string (using template strings): Name: Monish, Age: 24\n"
     ]
    }
   ],
   "source": [
    "# Using the format() method\n",
    "formatted_string = \"Name: {}, Age: {}\".format(name, age)\n",
    "print(\"Formatted string (using format() method):\", formatted_string)\n",
    "\n",
    "# Using f-strings (formatted string literals)\n",
    "formatted_string = f\"Name: {name}, Age: {age}\"\n",
    "print(\"Formatted string (using f-strings):\", formatted_string)\n",
    "\n",
    "# Using template strings\n",
    "from string import Template\n",
    "template = Template(\"Name: $name, Age: $age\")\n",
    "formatted_string = template.substitute(name=name, age=age)\n",
    "print(\"Formatted string (using template strings):\", formatted_string)"
   ]
  },
  {
   "cell_type": "code",
   "execution_count": 4,
   "id": "a489400e",
   "metadata": {},
   "outputs": [
    {
     "name": "stdout",
     "output_type": "stream",
     "text": [
      "Addition result: 20\n"
     ]
    }
   ],
   "source": [
    "# Addition\n",
    "result_add = 2 + 18\n",
    "print(\"Addition result:\", result_add)"
   ]
  },
  {
   "cell_type": "code",
   "execution_count": 5,
   "id": "734a0d3b",
   "metadata": {},
   "outputs": [
    {
     "name": "stdout",
     "output_type": "stream",
     "text": [
      "Subtraction result: 8\n",
      "Multiplication result: 4\n",
      "Division result: 6.0\n",
      "Exponentiation result: 16\n",
      "Modulus result: 0\n",
      "After subtraction assignment: 10\n",
      "After multiplication assignment: 75\n",
      "After division assignment: 15.0\n"
     ]
    }
   ],
   "source": [
    "# Subtraction\n",
    "result_sub = 10 - 2\n",
    "print(\"Subtraction result:\", result_sub)\n",
    "\n",
    "# Multiplication\n",
    "result_mul = 2 * 2\n",
    "print(\"Multiplication result:\", result_mul)\n",
    "\n",
    "# Division\n",
    "result_div = 24 / 4\n",
    "print(\"Division result:\", result_div)\n",
    "\n",
    "# Exponentiation\n",
    "result_exp = 4 ** 2\n",
    "print(\"Exponentiation result:\", result_exp)\n",
    "\n",
    "# Modulus\n",
    "result_mod = 15 % 3\n",
    "print(\"Modulus result:\", result_mod)\n",
    "# Example for -= (Subtraction assignment)\n",
    "x = 12\n",
    "x -= 2  # Equivalent to a = a - 2\n",
    "print(\"After subtraction assignment:\", x)\n",
    "\n",
    "# Example for *= (Multiplication assignment)\n",
    "y = 15\n",
    "y *= 5  # Equivalent to b = b * 5\n",
    "print(\"After multiplication assignment:\", y)\n",
    "\n",
    "# Example for /= (Division assignment)\n",
    "z = 60\n",
    "z /= 4  # Equivalent to c = c / 4\n",
    "print(\"After division assignment:\", z)"
   ]
  },
  {
   "cell_type": "code",
   "execution_count": null,
   "id": "2d6ceb5c",
   "metadata": {},
   "outputs": [],
   "source": []
  }
 ],
 "metadata": {
  "kernelspec": {
   "display_name": "Python 3 (ipykernel)",
   "language": "python",
   "name": "python3"
  },
  "language_info": {
   "codemirror_mode": {
    "name": "ipython",
    "version": 3
   },
   "file_extension": ".py",
   "mimetype": "text/x-python",
   "name": "python",
   "nbconvert_exporter": "python",
   "pygments_lexer": "ipython3",
   "version": "3.9.13"
  }
 },
 "nbformat": 4,
 "nbformat_minor": 5
}
