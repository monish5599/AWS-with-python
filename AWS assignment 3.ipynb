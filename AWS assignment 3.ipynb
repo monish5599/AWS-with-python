{
 "cells": [
  {
   "cell_type": "code",
   "execution_count": 1,
   "id": "fefc1578",
   "metadata": {},
   "outputs": [
    {
     "name": "stdout",
     "output_type": "stream",
     "text": [
      "Concatenated string: Hello World\n"
     ]
    }
   ],
   "source": [
    "str1 = \"Hello\"\n",
    "str2 = \"World\"\n",
    "concatenated_string = str1 + \" \" + str2\n",
    "print(\"Concatenated string:\", concatenated_string)"
   ]
  },
  {
   "cell_type": "code",
   "execution_count": 3,
   "id": "e049ebc1",
   "metadata": {},
   "outputs": [
    {
     "name": "stdout",
     "output_type": "stream",
     "text": [
      "Formatted string: Name: Monish, Age: 20\n"
     ]
    }
   ],
   "source": [
    "name = \"Monish\"\n",
    "age = 20\n",
    "formatted_string = \"Name: %s, Age: %d\" % (name, age)\n",
    "print(\"Formatted string:\", formatted_string)"
   ]
  },
  {
   "cell_type": "code",
   "execution_count": 4,
   "id": "9c0ad473",
   "metadata": {},
   "outputs": [
    {
     "name": "stdout",
     "output_type": "stream",
     "text": [
      "Formatted string: Name: Monish, Age: 20\n"
     ]
    }
   ],
   "source": [
    "from string import Template\n",
    "template = Template(\"Name: $name, Age: $age\")\n",
    "formatted_string = template.substitute(name=name, age=age)\n",
    "print(\"Formatted string:\", formatted_string)"
   ]
  },
  {
   "cell_type": "code",
   "execution_count": 5,
   "id": "977f7b27",
   "metadata": {},
   "outputs": [
    {
     "name": "stdout",
     "output_type": "stream",
     "text": [
      "Formatted string: Name: Monish, Age: 20\n"
     ]
    }
   ],
   "source": [
    "formatted_string = \"Name: {}, Age: {}\".format(name, age)\n",
    "print(\"Formatted string:\", formatted_string)"
   ]
  },
  {
   "cell_type": "code",
   "execution_count": 6,
   "id": "2c9ce857",
   "metadata": {},
   "outputs": [
    {
     "name": "stdout",
     "output_type": "stream",
     "text": [
      "Addition result: 8\n"
     ]
    }
   ],
   "source": [
    "result_add = 2 + 6\n",
    "print(\"Addition result:\", result_add)"
   ]
  },
  {
   "cell_type": "code",
   "execution_count": 7,
   "id": "7c1a331b",
   "metadata": {},
   "outputs": [
    {
     "name": "stdout",
     "output_type": "stream",
     "text": [
      "Subtraction result: 4\n"
     ]
    }
   ],
   "source": [
    "result_sub = 7 - 3\n",
    "print(\"Subtraction result:\", result_sub)"
   ]
  },
  {
   "cell_type": "code",
   "execution_count": 8,
   "id": "fa14bcaf",
   "metadata": {},
   "outputs": [
    {
     "name": "stdout",
     "output_type": "stream",
     "text": [
      "Multiplication result: 60\n"
     ]
    }
   ],
   "source": [
    "result_mul = 12 * 5\n",
    "print(\"Multiplication result:\", result_mul)"
   ]
  },
  {
   "cell_type": "code",
   "execution_count": 11,
   "id": "fe9935f0",
   "metadata": {},
   "outputs": [
    {
     "name": "stdout",
     "output_type": "stream",
     "text": [
      "Division result: 10.0\n"
     ]
    }
   ],
   "source": [
    "result_div = 30 / 3\n",
    "print(\"Division result:\", result_div)"
   ]
  },
  {
   "cell_type": "code",
   "execution_count": 12,
   "id": "30860c0f",
   "metadata": {},
   "outputs": [
    {
     "name": "stdout",
     "output_type": "stream",
     "text": [
      "Exponentiation result: 16777216\n"
     ]
    }
   ],
   "source": [
    "result_exp = 8 ** 8\n",
    "print(\"Exponentiation result:\", result_exp)"
   ]
  },
  {
   "cell_type": "code",
   "execution_count": 13,
   "id": "f6b911de",
   "metadata": {},
   "outputs": [
    {
     "name": "stdout",
     "output_type": "stream",
     "text": [
      "Modulus result: 0\n"
     ]
    }
   ],
   "source": [
    "result_mod = 6 % 3\n",
    "print(\"Modulus result:\", result_mod)"
   ]
  },
  {
   "cell_type": "code",
   "execution_count": 16,
   "id": "b29a8de9",
   "metadata": {},
   "outputs": [
    {
     "name": "stdout",
     "output_type": "stream",
     "text": [
      "After subtraction assignment: 3\n"
     ]
    }
   ],
   "source": [
    "x = 5\n",
    "x -= 2\n",
    "print(\"After subtraction assignment:\", x)"
   ]
  },
  {
   "cell_type": "code",
   "execution_count": 17,
   "id": "956ebe3f",
   "metadata": {},
   "outputs": [
    {
     "name": "stdout",
     "output_type": "stream",
     "text": [
      "After multiplication assignment: 12\n"
     ]
    }
   ],
   "source": [
    "y = 6\n",
    "y *= 2\n",
    "print(\"After multiplication assignment:\",y)"
   ]
  },
  {
   "cell_type": "code",
   "execution_count": 18,
   "id": "def8c06a",
   "metadata": {},
   "outputs": [
    {
     "name": "stdout",
     "output_type": "stream",
     "text": [
      "After division assignment: 6.0\n"
     ]
    }
   ],
   "source": [
    "z = 12\n",
    "z /= 2\n",
    "print(\"After division assignment:\", z)"
   ]
  },
  {
   "cell_type": "code",
   "execution_count": null,
   "id": "6dd33a02",
   "metadata": {},
   "outputs": [],
   "source": []
  }
 ],
 "metadata": {
  "kernelspec": {
   "display_name": "Python 3 (ipykernel)",
   "language": "python",
   "name": "python3"
  },
  "language_info": {
   "codemirror_mode": {
    "name": "ipython",
    "version": 3
   },
   "file_extension": ".py",
   "mimetype": "text/x-python",
   "name": "python",
   "nbconvert_exporter": "python",
   "pygments_lexer": "ipython3",
   "version": "3.9.13"
  }
 },
 "nbformat": 4,
 "nbformat_minor": 5
}
